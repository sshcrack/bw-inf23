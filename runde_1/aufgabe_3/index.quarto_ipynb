{
  "cells": [
    {
      "cell_type": "markdown",
      "metadata": {},
      "source": [
        "---\n",
        "title: \"3. Aufgabe: Sudokopie\"\n",
        "format:\n",
        "    html:\n",
        "        toc: true\n",
        "        toc-title: \"Inhalt\"\n",
        "        css: \"../../styles.css\"\n",
        "---\n",
        "\n",
        "::: {.callout-note appearance=\"simple\"}\n",
        "## Die Aufgabe\n",
        "Rudi ist gar nicht mehr begeistert von den Sudokus\n",
        "seiner Rätselzeitung: Er hat den starken Verdacht, dass\n",
        "die Redaktion die Sudoku-Aufgaben immer wiederverwendet! Die Rätsel sehen zwar unterschiedlich\n",
        "aus, aber der Lösungsweg wiederholt sich erkennbar.\n",
        "Er möchte nun seinen Verdacht nachweisen.\n",
        "Rudi überlegt sich, dass man aus einem Sudoku sehr\n",
        "viele Varianten erzeugen kann, indem man eine oder\n",
        "mehrere der folgenden Umformungen durchführt:\n",
        "\n",
        "- Permutation (Umordnung) der drei Spalten innerhalb der Spaltenblöcke.\n",
        "- Permutation der drei Spaltenblöcke.\n",
        "- Permutation der drei Zeilen innerhalb der Zeilenblöcke.\n",
        "- Permutation der drei Zeilenblöcke.\n",
        "- 90-Grad-Rotation im Uhrzeigersinn.\n",
        "- Umbenennen der Ziffern 1 bis 9 (z.B. alle ‚8‘en und ‚3‘en vertauschen).\n",
        "\n",
        "So sind zum Beispiel diese beiden Rätsel Varianten\n",
        "voneinander:\n",
        "\n",
        "![Sudoku](./sudoku.png)\n",
        "Hierbei wurden der 1. und der 3. Spaltenblock\n",
        "sowie die 5. und die 6. Zeile vertauscht und die\n",
        "Ziffern wie folgt umbenannt:\n",
        "1 → 2, 2 → 3, … , 8 → 9, 9 → 1.\n",
        "\n",
        "## Lösung"
      ],
      "id": "cf4a2e49"
    }
  ],
  "metadata": {
    "kernelspec": {
      "display_name": "Python 3",
      "language": "python",
      "name": "python3"
    }
  },
  "nbformat": 4,
  "nbformat_minor": 5
}